{
 "cells": [
  {
   "cell_type": "code",
   "execution_count": 64,
   "metadata": {},
   "outputs": [
    {
     "name": "stdout",
     "output_type": "stream",
     "text": [
      "Initial Objective: 2201.67\n",
      "Final Objective: 68.41052550608774\n",
      "Solution\n",
      "x0 = 1.0000000000000575\n",
      "x1 = 1.0000000000001008\n",
      "x2 = 1.000000000000081\n",
      "x3 = 1.1401777101299382\n"
     ]
    }
   ],
   "source": [
    "# http://apmonitor.com/che263/index.php/Main/PythonOptimization\n",
    "import numpy as np\n",
    "from scipy.optimize import minimize\n",
    "\n",
    "# define constant parameters\n",
    "items = 3        # items\n",
    "h=[2,1,4]        # holding costs\n",
    "D=[10,20,5]      # Demand rate\n",
    "S=10.0           # The major setup cost       \n",
    "s=[2.0,3.0,4.0]  # The minor setup costs\n",
    "\n",
    "# Modelling optimization function\n",
    "# def objective(x):\n",
    "#      return [x[0] * x[3] * D[0] * 0.5 * h[0] + (1 / x[3]) * (S + s[0] / x[0])\n",
    "#             +x[1] * x[3] * D[1] * 0.5 * h[1] + (1 / x[3]) * (S + s[1] / x[1])\n",
    "#             +x[2] * x[3] * D[2] * 0.5 * h[2] + (1 / x[3]) * (S + s[2] / x[2])]\n",
    "\n",
    "def objective(x):\n",
    "     return sum((x[0:items] * x[items] * D[0:items] * 0.5 * h[0:items])\n",
    "              + (1 / x[items]) * (S + s[0:items] / x[0:items]))\n",
    "\n",
    "def constraint1(x):\n",
    "    return x[0]+x[1]+x[2]+x[3]-4.0\n",
    "\n",
    "# def constraint2(x):\n",
    "#     sum_eq = 40.0\n",
    "#     for i in range(4):\n",
    "#         sum_eq = sum_eq - x[i]**2\n",
    "#     return sum_eq\n",
    "\n",
    "\n",
    "# Define decision variables and initialize parameters\n",
    "n = 4\n",
    "x0 = np.zeros(n) # the number of integer multipliers of T that a replensishment of item i will last\n",
    "x0[0] = 1.0\n",
    "x0[1] = 5.0\n",
    "x0[2] = 5.0\n",
    "x0[3] = 20 # T\n",
    "\n",
    "# show initial objective\n",
    "print('Initial Objective: ' + str(objective(x0)))\n",
    "\n",
    "# optimize\n",
    "b = (1.0,5.0)\n",
    "bnds = (b, b, b, b)\n",
    "con1 = {'type': 'ineq', 'fun': constraint1} \n",
    "# con2 = {'type': 'eq', 'fun': constraint2}\n",
    "cons = ([con1])\n",
    "# cons = ([con1,con2])\n",
    "\n",
    "# SLSQP only solver can solve nonlinear \n",
    "solution = minimize(objective,x0,method='SLSQP',\\\n",
    "                    bounds=bnds,constraints=cons)\n",
    "x = solution.x\n",
    "\n",
    "# show final objective\n",
    "print('Final Objective: ' + str(objective(x)))\n",
    "\n",
    "# print solution\n",
    "print('Solution')\n",
    "print('x0 = ' + str(x[0]))\n",
    "print('x1 = ' + str(x[1]))\n",
    "print('x2 = ' + str(x[2]))\n",
    "print('x3 = ' + str(x[3]))\n"
   ]
  },
  {
   "cell_type": "code",
   "execution_count": null,
   "metadata": {},
   "outputs": [],
   "source": []
  }
 ],
 "metadata": {
  "kernelspec": {
   "display_name": "Python 3",
   "language": "python",
   "name": "python3"
  },
  "language_info": {
   "codemirror_mode": {
    "name": "ipython",
    "version": 3
   },
   "file_extension": ".py",
   "mimetype": "text/x-python",
   "name": "python",
   "nbconvert_exporter": "python",
   "pygments_lexer": "ipython3",
   "version": "3.6.4"
  }
 },
 "nbformat": 4,
 "nbformat_minor": 2
}
